{
 "cells": [
  {
   "cell_type": "code",
   "execution_count": 5,
   "id": "065e1a79-f3cc-495d-80cf-56f959c85bdd",
   "metadata": {},
   "outputs": [
    {
     "name": "stdout",
     "output_type": "stream",
     "text": [
      "Hello, welcome to the currency exchange\n",
      "\n",
      "what currency are you currently using\n",
      "\n",
      "SGD - Singapore Dollar\n",
      "USD - US Dollar    \n",
      "GBP - Brittish Pound\n",
      "EUR - Euro\n",
      "JPY - Japanese Yen\n",
      "CAD - Canadian Dollar\n",
      "AUD - Australian Dollar\n",
      "CNY - China Yuan\n",
      "CHF - Swiss Franc\n",
      "HKD - Hong Kong Dollar\n",
      "TRY - Turkish Lira\n",
      "    \n",
      "SGD\n",
      "5SGD =>\n"
     ]
    }
   ],
   "source": [
    "currencies = {\n",
    "    \"SGD\": (1.0,1.0), #index 1 is x to sgd and 2 is sgd to x\n",
    "    \"USD\" : (1.34,0.74),\n",
    "    \"GBP\" : (1.70,0.59),\n",
    "    \"EUR\" : (1.46,0.69),\n",
    "    \"JPY\" : (0.0089,112.05),\n",
    "    \"CAD\" : (0.99,1.01),\n",
    "    \"AUD\" : (0.87,1.14),\n",
    "    \"CNY\" : (0.19,5.36),\n",
    "    \"CHF\" : (1.51,0.66),\n",
    "    \"HKD\" : (0.17,5.83),\n",
    "    \"TRY\" : (0.042,24.09)\n",
    "}\n",
    "\n",
    "currencies\n",
    "print(\"Hello, welcome to the currency exchange\")\n",
    "print(\"\")\n",
    "print(\"what currency are you currently using\")\n",
    "print(\"\"\"\n",
    "SGD - Singapore Dollar\n",
    "USD - US Dollar    \n",
    "GBP - Brittish Pound\n",
    "EUR - Euro\n",
    "JPY - Japanese Yen\n",
    "CAD - Canadian Dollar\n",
    "AUD - Australian Dollar\n",
    "CNY - China Yuan\n",
    "CHF - Swiss Franc\n",
    "HKD - Hong Kong Dollar\n",
    "TRY - Turkish Lira\n",
    "    \"\"\")\n",
    "currency1 = input(\"insert currency\")\n",
    "for currency,ratio in currencies.items():\n",
    "    if currency1 == f'{currency}':\n",
    "        print(f\"{currency}\")\n",
    "\n",
    "\n",
    "currency1v = input(\"insert value of first currency\")\n",
    "print(f\"{currency1v}{currency1} =>\")\n",
    "\n",
    "currency2 = input(\"insert second currency\")\n",
    "for currency,ratio in currencies.items():\n",
    "    if currency1 == f'{currency}':\n",
    "        print(f\"{currency1v}{currency1} => {currency2}\")\n",
    "currency1v * {currencies[currency1],ratio[1]} * {currencies[currency2],ratio[2]}\n",
    "\n",
    "#('currencyv1' * f'{currencies[currency1],ratio[1]}') * f'{currencies[currency2],ratio[2]}'\n",
    "     "
   ]
  },
  {
   "cell_type": "code",
   "execution_count": null,
   "id": "b83ba524-f9c3-4d83-ae99-9b7c56006288",
   "metadata": {},
   "outputs": [
    {
     "name": "stdout",
     "output_type": "stream",
     "text": [
      "hello\n"
     ]
    }
   ],
   "source": [
    "print(\"hello\")"
   ]
  },
  {
   "cell_type": "code",
   "execution_count": null,
   "id": "2696d5cb",
   "metadata": {},
   "outputs": [],
   "source": []
  }
 ],
 "metadata": {
  "kernelspec": {
   "display_name": "Python 3 (ipykernel)",
   "language": "python",
   "name": "python3"
  },
  "language_info": {
   "codemirror_mode": {
    "name": "ipython",
    "version": 3
   },
   "file_extension": ".py",
   "mimetype": "text/x-python",
   "name": "python",
   "nbconvert_exporter": "python",
   "pygments_lexer": "ipython3",
   "version": "3.9.6"
  }
 },
 "nbformat": 4,
 "nbformat_minor": 5
}
